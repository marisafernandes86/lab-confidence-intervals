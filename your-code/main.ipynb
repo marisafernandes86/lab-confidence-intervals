{
 "cells": [
  {
   "cell_type": "markdown",
   "metadata": {},
   "source": [
    "# Confidence Intervals"
   ]
  },
  {
   "cell_type": "code",
   "execution_count": 18,
   "metadata": {},
   "outputs": [],
   "source": [
    "import pandas as pd\n",
    "import numpy as np\n",
    "import scipy.stats as st\n",
    "import statistics "
   ]
  },
  {
   "cell_type": "markdown",
   "metadata": {},
   "source": [
    "## Challenge 1\n",
    "We want to estimate the average size of the men of a country with a confidence level of 80%. Assuming that the standard deviation of the sizes in the population is 4, get the confidence interval with a sample of men selected randomly, whose heights are:\n",
    "\n",
    "````\n",
    "heights = [167, 167, 168, 168, 168, 169, 171, 172, 173, 175, 175, 175, 177, 182, 195]\n",
    "````\n",
    "\n",
    "**Hint**: function `stats.norm.interval` from `scipy` can help you get through this exercise. "
   ]
  },
  {
   "cell_type": "code",
   "execution_count": 29,
   "metadata": {},
   "outputs": [
    {
     "name": "stdout",
     "output_type": "stream",
     "text": [
      "The total number of heights are: 15\n",
      "The mean of heights is: 173.46666666666667\n",
      "The standard deviation is: 7.107429602574728\n",
      "left end:  171.92218192843274\n",
      "right end:  175.0111514049006\n"
     ]
    }
   ],
   "source": [
    "heights = [167, 167, 168, 168, 168, 169, 171, 172, 173, 175, 175, 175, 177, 182, 195]\n",
    "n = len(heights)\n",
    "print(\"The total number of heights is:\", n)\n",
    "mean = np.mean(heights)\n",
    "print(\"The mean of heights is:\", mean)\n",
    "std = np.std(heights)\n",
    "print(\"The standard deviation is:\", std)\n",
    "z = st.norm.ppf(.80) \n",
    "print(\"left end: \", mean - z* (std/np.sqrt(n)))\n",
    "print(\"right end: \", mean + z* (std/np.sqrt(n)))"
   ]
  },
  {
   "cell_type": "markdown",
   "metadata": {},
   "source": [
    "## Challenge 2 \n",
    "In a sample of 105 shops selected randomly from an area, we note that 27 of them have had losses in this month. Get an interval for the proportion of businesses in the area with losses to a confidence level of 80% and a confidence level of 90%.\n",
    "\n",
    "**Hint**: function `stats.norm.interval` from `scipy` can help you get through this exercise. "
   ]
  },
  {
   "cell_type": "code",
   "execution_count": 46,
   "metadata": {},
   "outputs": [
    {
     "name": "stdout",
     "output_type": "stream",
     "text": [
      "[51, 90, 12, 32, 39, 28, 102, 75, 27, 103, 73, 67, 22, 43, 95, 16, 57, 98, 20, 33, 59, 87, 36, 54, 74, 84, 66, 4, 55, 25, 104, 44, 9, 69, 0, 48, 45, 1, 34, 41, 2, 53, 89, 71, 100, 60, 83, 82, 30, 8, 56, 10, 92, 52, 29, 5, 80, 96, 26, 79, 7, 13, 85, 91, 40, 31, 68, 17, 65, 58, 77, 38, 86, 15, 88, 3, 14, 47, 46, 72, 50, 61, 6, 49, 64, 101, 78, 23, 21, 99, 76, 19, 24, 97, 63, 18, 93, 37, 94, 42, 62, 35, 11, 81, 70]\n",
      "The total number is: 105\n",
      "The mean is: [51, 90, 12, 32, 39, 28, 102, 75, 27, 103, 73, 67, 22, 43, 95, 16, 57, 98, 20, 33, 59, 87, 36, 54, 74, 84, 66, 4, 55, 25, 104, 44, 9, 69, 0, 48, 45, 1, 34, 41, 2, 53, 89, 71, 100, 60, 83, 82, 30, 8, 56, 10, 92, 52, 29, 5, 80, 96, 26, 79, 7, 13, 85, 91, 40, 31, 68, 17, 65, 58, 77, 38, 86, 15, 88, 3, 14, 47, 46, 72, 50, 61, 6, 49, 64, 101, 78, 23, 21, 99, 76, 19, 24, 97, 63, 18, 93, 37, 94, 42, 62, 35, 11, 81, 70]\n",
      "The standard deviation is: 30.309514457784815\n",
      "left end:  49.5105637248011\n",
      "right end:  54.4894362751989\n"
     ]
    }
   ],
   "source": [
    "randomlist = random.sample(range(0, 105), 105)\n",
    "print(randomlist)\n",
    "n = 105\n",
    "print(\"The total number is:\", n)\n",
    "mean = np.mean(randomlist)\n",
    "print(\"The mean is:\", randomlist)\n",
    "std = np.std(randomlist)\n",
    "print(\"The standard deviation is:\", std)\n",
    "z = st.norm.ppf(.80) \n",
    "print(\"left end: \", mean - z* (std/np.sqrt(n)))\n",
    "print(\"right end: \", mean + z* (std/np.sqrt(n)))"
   ]
  },
  {
   "cell_type": "code",
   "execution_count": 45,
   "metadata": {},
   "outputs": [
    {
     "name": "stdout",
     "output_type": "stream",
     "text": [
      "[84, 27, 4, 2, 28, 48, 69, 7, 26, 103, 100, 36, 35, 93, 41, 45, 59, 38, 1, 64, 46, 89, 65, 31, 32, 76, 11, 81, 19, 8, 87, 9, 74, 17, 94, 47, 0, 78, 12, 44, 104, 80, 86, 14, 90, 102, 20, 75, 101, 42, 13, 22, 15, 95, 67, 73, 82, 57, 98, 60, 66, 71, 37, 6, 53, 33, 18, 25, 99, 21, 61, 3, 10, 54, 40, 91, 63, 85, 30, 52, 92, 72, 34, 56, 24, 68, 23, 43, 50, 29, 62, 49, 16, 88, 70, 77, 39, 55, 5, 51, 79, 58, 96, 83, 97]\n",
      "The total number of heights is: 105\n",
      "The mean of heights is: [84, 27, 4, 2, 28, 48, 69, 7, 26, 103, 100, 36, 35, 93, 41, 45, 59, 38, 1, 64, 46, 89, 65, 31, 32, 76, 11, 81, 19, 8, 87, 9, 74, 17, 94, 47, 0, 78, 12, 44, 104, 80, 86, 14, 90, 102, 20, 75, 101, 42, 13, 22, 15, 95, 67, 73, 82, 57, 98, 60, 66, 71, 37, 6, 53, 33, 18, 25, 99, 21, 61, 3, 10, 54, 40, 91, 63, 85, 30, 52, 92, 72, 34, 56, 24, 68, 23, 43, 50, 29, 62, 49, 16, 88, 70, 77, 39, 55, 5, 51, 79, 58, 96, 83, 97]\n",
      "The standard deviation is: 30.309514457784815\n",
      "left end:  48.20929127196472\n",
      "right end:  55.79070872803528\n"
     ]
    }
   ],
   "source": [
    "randomlist = random.sample(range(0, 105), 105)\n",
    "print(randomlist)\n",
    "n = 105\n",
    "print(\"The total number of heights is:\", n)\n",
    "mean = np.mean(randomlist)\n",
    "print(\"The mean of heights is:\", randomlist)\n",
    "std = np.std(randomlist)\n",
    "print(\"The standard deviation is:\", std)\n",
    "z = st.norm.ppf(.90) \n",
    "print(\"left end: \", mean - z* (std/np.sqrt(n)))\n",
    "print(\"right end: \", mean + z* (std/np.sqrt(n)))"
   ]
  },
  {
   "cell_type": "markdown",
   "metadata": {},
   "source": [
    "## Bonus Challenge\n",
    "The error level or sampling error for the first challenge is given by the following expression:\n",
    "$$Error = z_{\\frac{\\alpha}{2}}\\frac{\\sigma}{\\sqrt n}$$\n",
    "Where z represents the value for N(0,1)\n",
    "\n",
    "\n",
    "Suppose that with the previous data of challenge 1, and with a confidence level of\n",
    "99% (that is, almost certainly) we want to estimate the average population size, so that the error level committed is not greater than half a centimeter.\n",
    "\n",
    "#### 1.- Determine what size the selected sample of men should be."
   ]
  },
  {
   "cell_type": "code",
   "execution_count": null,
   "metadata": {},
   "outputs": [],
   "source": [
    "# your code here"
   ]
  },
  {
   "cell_type": "markdown",
   "metadata": {},
   "source": [
    "#### 2.- For the second challenge, we have the following error:\n",
    "$$ Error = z_{\\frac{\\alpha}{2}}\\sqrt{\\frac{p\\times q}{n}} $$\n",
    "#### Determine the sample size required to not exceed an error of 1% with a confidence of 80%."
   ]
  },
  {
   "cell_type": "code",
   "execution_count": null,
   "metadata": {},
   "outputs": [],
   "source": [
    "# your code here"
   ]
  },
  {
   "cell_type": "markdown",
   "metadata": {},
   "source": [
    "## Bonus Challenge\n",
    "\n",
    "Let's consider the following problem:\n",
    "\n",
    "Build a confidence interval of 94% for the real difference between the durations of two brands of spotlights, if a sample of 40 spotlights taken randomly from the first mark gave an average duration of 418 hours, and a sample of 50 bulbs of another brand gave a duration average of 402 hours. The standard deviations of the two\n",
    "populations are 26 hours and 22 hours, respectively.\n",
    "\n",
    "Sometimes, we will be interested in the difference of two different groups of random variables. We can also build a confidence interval for that! We have some different cases regarding the variance but for this specific case (the variance are different and known), we have that:\n",
    "\n",
    "$$\\overline{X} - \\overline{Y}  \\sim N(\\mu_{X} - \\mu_{Y} , \\sqrt{\\frac{\\sigma_{X}^2}{n_X}+\\frac{\\sigma_{Y}^2}{n_Y}})$$\n",
    "\n",
    "Solve the problem with this information."
   ]
  },
  {
   "cell_type": "code",
   "execution_count": null,
   "metadata": {},
   "outputs": [],
   "source": [
    "# your code here"
   ]
  }
 ],
 "metadata": {
  "kernelspec": {
   "display_name": "Python 3",
   "language": "python",
   "name": "python3"
  },
  "language_info": {
   "codemirror_mode": {
    "name": "ipython",
    "version": 3
   },
   "file_extension": ".py",
   "mimetype": "text/x-python",
   "name": "python",
   "nbconvert_exporter": "python",
   "pygments_lexer": "ipython3",
   "version": "3.8.3"
  }
 },
 "nbformat": 4,
 "nbformat_minor": 2
}
